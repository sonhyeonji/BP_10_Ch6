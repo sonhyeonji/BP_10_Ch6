{
  "nbformat": 4,
  "nbformat_minor": 0,
  "metadata": {
    "colab": {
      "provenance": [],
      "authorship_tag": "ABX9TyO/saRdo492Yn2Vh/5Exl/o",
      "include_colab_link": true
    },
    "kernelspec": {
      "name": "python3",
      "display_name": "Python 3"
    },
    "language_info": {
      "name": "python"
    }
  },
  "cells": [
    {
      "cell_type": "markdown",
      "metadata": {
        "id": "view-in-github",
        "colab_type": "text"
      },
      "source": [
        "<a href=\"https://colab.research.google.com/github/sonhyeonji/BP_10_Ch6/blob/main/EXE221110.ipynb\" target=\"_parent\"><img src=\"https://colab.research.google.com/assets/colab-badge.svg\" alt=\"Open In Colab\"/></a>"
      ]
    },
    {
      "cell_type": "code",
      "execution_count": null,
      "metadata": {
        "colab": {
          "base_uri": "https://localhost:8080/"
        },
        "id": "xRtblIqpg0Bs",
        "outputId": "44d35645-8eef-447f-8318-d5edd94712fd"
      },
      "outputs": [
        {
          "output_type": "stream",
          "name": "stdout",
          "text": [
            "2468101214161820222426283032343638404244464850525456586062646668707274767880828486889092949698100"
          ]
        }
      ],
      "source": [
        "for i in range(2,101): #반복구조를 사용한다\n",
        "  if i%2==0: ##나눗셈의 나머지를 구한다\n",
        "    print(i,end=\"\")"
      ]
    },
    {
      "cell_type": "code",
      "source": [
        "year=0 #변수를 year 지정\n",
        "balance=1000 #변수를 balance 지정\n",
        "\n",
        "while balance <=2000 : #조건 제어 반복을 위해 while문 사용\n",
        "  year=year+1\n",
        "  interest=balance*0.07\n",
        "  balance=balance+interest\n",
        "print(year,\"년이 걸립니다.\")  "
      ],
      "metadata": {
        "colab": {
          "base_uri": "https://localhost:8080/"
        },
        "id": "n2dKd2IQiVtb",
        "outputId": "1c58c808-7fb8-437f-e8c3-3466b30a738c"
      },
      "execution_count": null,
      "outputs": [
        {
          "output_type": "stream",
          "name": "stdout",
          "text": [
            "11 년이 걸립니다.\n"
          ]
        }
      ]
    },
    {
      "cell_type": "code",
      "source": [
        "n=1234\n",
        "sum=0\n",
        "while n >0:\n",
        "  digit=n%10\n",
        "  sum=sum+digit\n",
        "  n=n//10 #나눗셈의 몫을 구한다\n",
        "print(sum)  "
      ],
      "metadata": {
        "colab": {
          "base_uri": "https://localhost:8080/"
        },
        "id": "h6jLI6GskPgT",
        "outputId": "f3c18a30-0f73-4e80-960a-5b47c756bea4"
      },
      "execution_count": null,
      "outputs": [
        {
          "output_type": "stream",
          "name": "stdout",
          "text": [
            "10\n"
          ]
        }
      ]
    },
    {
      "cell_type": "code",
      "source": [
        "ans=0\n",
        "while ans !=3*9:\n",
        "  ans=int(input(\"3*9는\"))\n",
        "  if ans==27:\n",
        "    print(\"맞았습니다.\")\n",
        "  else: #위의 경우를 제외한 경우\n",
        "    print(\"틀렸습니다.\")\n"
      ],
      "metadata": {
        "colab": {
          "base_uri": "https://localhost:8080/"
        },
        "id": "BwGGdX7sk2Fr",
        "outputId": "fd02602c-184c-492b-d1a9-80c4db072b17"
      },
      "execution_count": null,
      "outputs": [
        {
          "output_type": "stream",
          "name": "stdout",
          "text": [
            "3*9는0\n",
            "틀렸습니다.\n",
            "3*9는2\n",
            "틀렸습니다.\n",
            "3*9는27\n",
            "맞았습니다.\n"
          ]
        }
      ]
    },
    {
      "cell_type": "code",
      "source": [
        "sum=0\n",
        "while True:\n",
        "  a=int(input(\"정수를 입력하시오.:\"))\n",
        "  if a==0:\n",
        "    break;\n",
        "  sum=sum+a\n",
        "\n",
        "print(\"합은\",sum,\"입니다.\")  "
      ],
      "metadata": {
        "colab": {
          "base_uri": "https://localhost:8080/"
        },
        "id": "5MqQdOUgn3Vk",
        "outputId": "92829557-b28a-4760-ff31-59f012006a0b"
      },
      "execution_count": null,
      "outputs": [
        {
          "output_type": "stream",
          "name": "stdout",
          "text": [
            "정수를 입력하시오.:5\n",
            "정수를 입력하시오.:3\n",
            "정수를 입력하시오.:4\n",
            "정수를 입력하시오.:0\n",
            "합은 12 입니다.\n"
          ]
        }
      ]
    },
    {
      "cell_type": "code",
      "source": [
        "from random import randint\n",
        "for i in range(3):\n",
        "  dice_1=randint(1,6)\n",
        "  dice_2=randint(1,6)\n",
        "  sum=dice_1+dice_2\n",
        "  print(\"첫번째 주사위=\",dice_1,\"두번째 주사위=\",dice_2,\"두 주사위의 합=\",sum) #주사위의 각자의 값과 합을 구한다\n",
        "\n"
      ],
      "metadata": {
        "colab": {
          "base_uri": "https://localhost:8080/"
        },
        "id": "5JsX7R5ppRVC",
        "outputId": "4c5c039c-6629-4a59-9eeb-c3eb69bf1c29"
      },
      "execution_count": null,
      "outputs": [
        {
          "output_type": "stream",
          "name": "stdout",
          "text": [
            "첫번째 주사위= 1 두번째 주사위= 3 두 주사위의 합= 4\n",
            "첫번째 주사위= 1 두번째 주사위= 5 두 주사위의 합= 6\n",
            "첫번째 주사위= 3 두번째 주사위= 1 두 주사위의 합= 4\n"
          ]
        }
      ]
    },
    {
      "cell_type": "code",
      "source": [
        "import turtle #터틀을 시작한다\n",
        "t=turtle.Turtle() #t라는 변수에 터틀의 모든 기능을 쓴다는 것을 정의한다\n",
        "t.shape(\"turtle\") #마우스 켜셔 모양을 터틀모양으로 설정한다\n",
        "t.left(90)\n",
        "\n",
        "for i in range(1,7):\n",
        "  t.forward(100)\n",
        "  t.forward(-30)\n",
        "  t.left(60)\n",
        "  t.forward(30)\n",
        "  t.forward(-30)\n",
        "\n",
        "  t.right(120)\n",
        "  t.forward(30)\n",
        "  t.forward(-30)\n",
        "\n",
        "  t.left(60)\n",
        "  t.forward(-70)\n",
        "  t.left(60)\n"
      ],
      "metadata": {
        "id": "MtOlMrJaq9Yq"
      },
      "execution_count": null,
      "outputs": []
    },
    {
      "cell_type": "code",
      "source": [
        "import turtle #터틀을 시작한다\n",
        "\n",
        "myPen=turtle.Turtle()\n",
        "myPen.speed(0)\n",
        "myPen.color(\"#FF0000\")\n",
        "\n",
        "for j in range(1,10):\n",
        "  for i in range(1,6):\n",
        "    myPen.left(144)\n",
        "    myPen.forward(200)\n",
        "  myPen.left(10)  "
      ],
      "metadata": {
        "id": "boBLn8Prubck"
      },
      "execution_count": null,
      "outputs": []
    },
    {
      "cell_type": "code",
      "source": [
        "import turtle #터틀을 시작한다\n",
        "import random\n",
        "\n",
        "t=turtle.Turtle() #t라는 변수에 터틀의 모든 기능을 쓴다는 것을 정의한다\n",
        "t.shape(\"turtle\") #마우스 켜셔 모양을 터틀모양으로 설정한다\n",
        "\n",
        "for i in range(10):\n",
        "  t.up()\n",
        "  a=random.randint(-200,200)\n",
        "  b=random.randint(-200,200)\n",
        "  r=random.randint(10,200)\n",
        "  t.goto(a,b)\n",
        "  t.down()\n",
        "  t.circle(r)"
      ],
      "metadata": {
        "id": "sbgVR-G0wtJf"
      },
      "execution_count": null,
      "outputs": []
    },
    {
      "cell_type": "code",
      "source": [
        "import turtle #터틀을 시작한다\n",
        "t=turtle.Turtle() #t라는 변수에 터틀의 모든 기능을 쓴다는 것을 정의한다\n",
        "t.shape(\"turtle\") #마우스 켜셔 모양을 터틀모양으로 설정한다\n",
        "\n",
        "for i in range(5):\n",
        "  t.forward(200);\n",
        "  t.right(90)\n",
        "  t.forward(20);\n",
        "  t.right(90)\n",
        "  t.forward(200);\n",
        "  t.left(90)\n",
        "  t.forward(20);\n",
        "  t.left(90)"
      ],
      "metadata": {
        "id": "_0kNngRS27Mg"
      },
      "execution_count": null,
      "outputs": []
    },
    {
      "cell_type": "code",
      "source": [
        "import turtle #터틀을 시작한다\n",
        "t=turtle.Turtle() #t라는 변수에 터틀의 모든 기능을 쓴다는 것을 정의한다\n",
        "t.shape(\"turtle\") #마우스 켜셔 모양을 터틀모양으로 설정한다\n",
        "t.color('red','yellow') #터틀 색을 설정한다\n",
        "t.begin_fill()\n",
        "while True:\n",
        "  t.forward(200)\n",
        "  t.left(170)\n",
        "  if abs(t.pos())<1:\n",
        "    break\n",
        "t.end_fill()    "
      ],
      "metadata": {
        "id": "7PdK_yeY0PUN"
      },
      "execution_count": null,
      "outputs": []
    },
    {
      "cell_type": "code",
      "source": [
        "import turtle #터틀을 시작한다\n",
        "import math #수학기능을 시작한다\n",
        "\n",
        "t=turtle.Turtle() #t라는 변수에 터틀의 모든 기능을 쓴다는 것을 정의한다\n",
        "t.shape(\"turtle\") #마우스 켜셔 모양을 터틀모양으로 설정한다\n",
        "t.color('red','yellow') #터틀 색을 설정한다\n",
        "\n",
        "for x in range(0,360):\n",
        "  t.goto(x,200*math.sin(x*3.14/180))"
      ],
      "metadata": {
        "id": "FEMRSLKl7zWA"
      },
      "execution_count": null,
      "outputs": []
    }
  ]
}